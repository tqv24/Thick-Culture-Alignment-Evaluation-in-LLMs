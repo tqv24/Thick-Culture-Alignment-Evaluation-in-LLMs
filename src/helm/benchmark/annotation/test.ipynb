{
 "cells": [
  {
   "cell_type": "code",
   "execution_count": null,
   "id": "4f937fba",
   "metadata": {},
   "outputs": [
    {
     "name": "stdout",
     "output_type": "stream",
     "text": [
      "Loading prompt templates...\n",
      "Unexpected error loading templates: name '__file__' is not defined\n",
      "Loaded 0 templates\n",
      "Template keys: None\n"
     ]
    }
   ],
   "source": [
    "import yaml\n",
    "import os\n",
    "import inspect\n",
    "\n",
    "def load_prompt_templates():\n",
    "    try:\n",
    "        # Alternative way to get current directory in Jupyter notebooks\n",
    "        current_dir = os.getcwd()  # Gets current working directory\n",
    "        # Or use the directory where this notebook is located\n",
    "        # current_dir = os.path.dirname(os.path.abspath(inspect.getfile(inspect.currentframe())))\n",
    "        \n",
    "        template_path = os.path.join(current_dir, \"casa_prompt_templates.yaml\")\n",
    "        \n",
    "        print(f\"Looking for template file at: {template_path}\")\n",
    "        \n",
    "        # Check if file exists\n",
    "        if not os.path.exists(template_path):\n",
    "            print(f\"Template file not found at: {template_path}\")\n",
    "            print(f\"Current directory contents: {os.listdir(current_dir)}\")\n",
    "            return {}\n",
    "        \n",
    "        # Load the YAML file\n",
    "        with open(template_path, 'r', encoding='utf-8') as file:\n",
    "            templates = yaml.safe_load(file)\n",
    "            \n",
    "        if templates is None:\n",
    "            print(\"YAML file is empty or invalid\")\n",
    "            return {}\n",
    "            \n",
    "        return templates\n",
    "        \n",
    "    except FileNotFoundError as e:\n",
    "        print(f\"File not found: {e}\")\n",
    "        return {}\n",
    "    except yaml.YAMLError as e:\n",
    "        print(f\"YAML parsing error: {e}\")\n",
    "        return {}\n",
    "    except Exception as e:\n",
    "        print(f\"Unexpected error loading templates: {e}\")\n",
    "        return {}\n",
    "\n",
    "# Test the function\n",
    "print(\"Loading prompt templates...\")\n",
    "PROMPT_TEMPLATES = load_prompt_templates()\n",
    "print(f\"Loaded {len(PROMPT_TEMPLATES)} templates\")\n",
    "print(\"Template keys:\", list(PROMPT_TEMPLATES.keys()) if PROMPT_TEMPLATES else \"None\")"
   ]
  }
 ],
 "metadata": {
  "kernelspec": {
   "display_name": "Python 3",
   "language": "python",
   "name": "python3"
  },
  "language_info": {
   "codemirror_mode": {
    "name": "ipython",
    "version": 3
   },
   "file_extension": ".py",
   "mimetype": "text/x-python",
   "name": "python",
   "nbconvert_exporter": "python",
   "pygments_lexer": "ipython3",
   "version": "3.11.9"
  }
 },
 "nbformat": 4,
 "nbformat_minor": 5
}
